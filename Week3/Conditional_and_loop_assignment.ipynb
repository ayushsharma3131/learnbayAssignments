{
 "cells": [
  {
   "cell_type": "markdown",
   "metadata": {
    "id": "wNRNTbrsc53d"
   },
   "source": [
    "# If - elif - else statement"
   ]
  },
  {
   "cell_type": "code",
   "execution_count": 1,
   "metadata": {
    "id": "MiPfTnBycxNa"
   },
   "outputs": [
    {
     "name": "stdout",
     "output_type": "stream",
     "text": [
      "Enter a number 0-9:0\n",
      "zero\n",
      "Enter a number 0-9:3\n",
      "three\n",
      "Enter a number 0-9:4\n",
      "four\n",
      "Enter a number 0-9:7\n",
      "seven\n",
      "Enter a number 0-9:45\n",
      "outside of the range\n"
     ]
    }
   ],
   "source": [
    "#W. A P. which takes one number from 0 to 9 from the user and prints it in the word. And if the word is not from 0 to 9 then\n",
    "#it should print that number is outside of the range and program should exit.\n",
    "# For example:- \n",
    "# input = 1\n",
    "# output = one\n",
    "while True:\n",
    "    num = int(input('Enter a number 0-9:'))\n",
    "    if(num==0):\n",
    "        print('zero')\n",
    "    elif(num==1):\n",
    "        print('one')\n",
    "    elif(num==2):\n",
    "        print('two')\n",
    "    elif(num==3):\n",
    "        print('three')\n",
    "    elif(num==4):\n",
    "        print('four')\n",
    "    elif(num==5):\n",
    "        print('five')\n",
    "    elif(num==6):\n",
    "        print('six')\n",
    "    elif(num==7):\n",
    "        print('seven')\n",
    "    elif(num==8):\n",
    "        print('eight')\n",
    "    elif(num==9):\n",
    "        print('nine')\n",
    "    else:\n",
    "        print('outside of the range')\n",
    "        break\n"
   ]
  },
  {
   "cell_type": "code",
   "execution_count": 5,
   "metadata": {
    "id": "vEMNOv9zdA39"
   },
   "outputs": [
    {
     "name": "stdout",
     "output_type": "stream",
     "text": [
      "Enter first number:3\n",
      "Enter second number:2\n",
      "To add enter 1\n",
      "         * to subtract enter 2\n",
      "         * To multiply enter 3\n",
      "         * To divide enter 4\n",
      "         * To divide and find quotient enter 5\n",
      "         * To divide and find remainder enter 6\n",
      "         * To divide and find num1 to the power of num2 enter 7\n",
      "         * To Come out of the program enter 8: 6\n",
      "1\n",
      "To add enter 1\n",
      "         * to subtract enter 2\n",
      "         * To multiply enter 3\n",
      "         * To divide enter 4\n",
      "         * To divide and find quotient enter 5\n",
      "         * To divide and find remainder enter 6\n",
      "         * To divide and find num1 to the power of num2 enter 7\n",
      "         * To Come out of the program enter 8: 8\n",
      "Exit\n"
     ]
    }
   ],
   "source": [
    "#W. A P. to implement calculator but the operation to be done and two numbers will be taken as input from user:-\n",
    "#Operation console should show below:-\n",
    "#     Please select any one operation from below:-\n",
    "#         * To add enter 1\n",
    "#         * to subtract enter 2\n",
    "#         * To multiply enter 3\n",
    "#         * To divide enter 4\n",
    "#         * To divide and find quotient enter 5\n",
    "#         * To divide and find remainder enter 6\n",
    "#         * To divide and find num1 to the power of num2 enter 7\n",
    "#         * To Come out of the program enter 8\n",
    "\n",
    "num1 = int(input('Enter first number:'))\n",
    "num2 = int(input('Enter second number:'))\n",
    "    \n",
    "while True:\n",
    "    operation = int(input('''To add enter 1\n",
    "         * to subtract enter 2\n",
    "         * To multiply enter 3\n",
    "         * To divide enter 4\n",
    "         * To divide and find quotient enter 5\n",
    "         * To divide and find remainder enter 6\n",
    "         * To divide and find num1 to the power of num2 enter 7\n",
    "         * To Come out of the program enter 8: '''))\n",
    "    if(operation==1):\n",
    "        print(num1+num2)\n",
    "    elif(operation==2):\n",
    "        print(num1-num2)\n",
    "    elif(operation==3):\n",
    "        print(num1*num2)\n",
    "    elif(operation==4):\n",
    "        print(num1/num2)\n",
    "    elif(operation==5):\n",
    "        print(num1//num2)\n",
    "    elif(operation==6):\n",
    "        print(num1%num2)\n",
    "    elif(operation==7):\n",
    "        print(num1**num2)\n",
    "    elif(operation==8):\n",
    "        print('Exit')\n",
    "        break\n",
    "    else:\n",
    "        print('retry')\n",
    "\n",
    "\n"
   ]
  },
  {
   "cell_type": "code",
   "execution_count": 1,
   "metadata": {
    "id": "1e2gwYLqdC1s"
   },
   "outputs": [
    {
     "name": "stdout",
     "output_type": "stream",
     "text": [
      "Enter year:2345\n",
      "2345 is not a leap year\n"
     ]
    }
   ],
   "source": [
    "# W A P to check whether a year entered by user is an leap year or not?\n",
    "#Check with below input:-\n",
    "    #leap year:- 2012, 1968, 2004, 1200, 1600,2400\n",
    "    #Non-lear year:- 1971, 2006, 1700,1800,1900\n",
    "    \n",
    "year = int(input('Enter year:'))\n",
    "\n",
    "if (year % 4) == 0:\n",
    "    if (year % 100) == 0:\n",
    "        if (year % 400) == 0:\n",
    "            print(\"{0} is a leap year\".format(year))\n",
    "        else:\n",
    "            print(\"{0} is not a leap year\".format(year))\n",
    "    else:\n",
    "        print(\"{0} is a leap year\".format(year))\n",
    "else:\n",
    "     print(\"{0} is not a leap year\".format(year))\n"
   ]
  },
  {
   "cell_type": "code",
   "execution_count": 3,
   "metadata": {
    "id": "_tpXv1EtdEre"
   },
   "outputs": [
    {
     "name": "stdout",
     "output_type": "stream",
     "text": [
      "Enter a number:3\n",
      "odd\n"
     ]
    }
   ],
   "source": [
    "#W A P which takes one number from the user and checks whether it is an even or odd number?, If it even then prints number is \n",
    "#even number else prints that number is odd number.\n",
    "\n",
    "num1 = int(input('Enter a number:'))\n",
    "if num1%2==0:\n",
    "    print('even')\n",
    "else :\n",
    "    print ('odd')"
   ]
  },
  {
   "cell_type": "code",
   "execution_count": 8,
   "metadata": {
    "id": "Q1HumymCdG6i"
   },
   "outputs": [
    {
     "name": "stdout",
     "output_type": "stream",
     "text": [
      "Enter a number:2\n",
      "Enter a number:2\n",
      "equal\n",
      "equal\n"
     ]
    }
   ],
   "source": [
    "#W A P which takes two numbers from the user and prints below output:-\n",
    "#     1. num1 is greater than num2 if num1 is greater than num2\n",
    "#     2. num1 is smaller than num2 if num1 is smaller than num2\n",
    "#     3. num1 is equal to num2 if num1 and num2 are equal\n",
    "\n",
    "#Note:- 1. Do this problem using if - else \n",
    "#       2. Do this using ternary operator\n",
    "num1 = int(input('Enter a number:'))\n",
    "num2 = int(input('Enter a number:'))\n",
    "if num1>num2:\n",
    "    print(f'{num1} is greater than {num2}')\n",
    "elif num2>num1 :\n",
    "    print (f'{num1} is smaller than {num2}')\n",
    "else :\n",
    "    print('equal')\n",
    "    \n",
    "    \n",
    "print(f'{num1} is greater than {num2}') if num1>num2 else print (f'{num1} is smaller than {num2}') if num2>num1 else print('equal')\n"
   ]
  },
  {
   "cell_type": "code",
   "execution_count": 14,
   "metadata": {
    "id": "LR6TVB-DdOPf"
   },
   "outputs": [
    {
     "name": "stdout",
     "output_type": "stream",
     "text": [
      "Enter a number:4\n",
      "Enter a number:4\n",
      "Enter a number:1\n",
      "two or more of them are equal\n"
     ]
    }
   ],
   "source": [
    "#W A P which takes three numbers from the user and prints below output:-\n",
    "#     1. num1 is greater than num2 and num3 if num1 is greater than num2 and num3\n",
    "#     2. num2 is greater than num1 and num3 if num2 is greater than num1 and num3\n",
    "#     3. num3 is greater than num1 and num2 if num3 is greater than num1 and num2\n",
    "\n",
    "#Note:- 1. Do this problem using if - elif - else \n",
    "#       2. Do this using ternary operator\n",
    "\n",
    "# a = a if a>b else b\n",
    "\n",
    "\n",
    "\n",
    "num1 = int(input('Enter a number:'))\n",
    "num2 = int(input('Enter a number:'))\n",
    "num3 = int(input('Enter a number:'))\n",
    "if num1>num2 and num1>num3:\n",
    "    print(f'{num1} is greater than {num2},{num3}')\n",
    "elif num2>num1 and num2>num3:\n",
    "    print (f'{num2} is greater than {num1},{num3}')\n",
    "elif num3>num1 and num3>num2:\n",
    "    print (f'{num3} is greater than {num1},{num2}')\n",
    "    \n",
    "    \n",
    "print(f'{num1} is greater than {num2},{num3}') if num1>num2 and num1>num3 else print(f'{num2} is greater than {num1},{num3}') if num2>num1 and num2>num3 else print(f'{num3} is greater than {num1},{num2}') if num3>num1 and num3>num2 else print('two or more of them are equal')\n",
    "\n"
   ]
  },
  {
   "cell_type": "markdown",
   "metadata": {
    "id": "IoOLQMUGdSox"
   },
   "source": [
    "# Loops - for loop, while loop"
   ]
  },
  {
   "cell_type": "code",
   "execution_count": 15,
   "metadata": {
    "id": "9K23Uld8dQfA"
   },
   "outputs": [
    {
     "name": "stdout",
     "output_type": "stream",
     "text": [
      "55\n"
     ]
    }
   ],
   "source": [
    "#Write a Python program to find the length of the my_str using loop:-\n",
    "\n",
    "#Input:- 'Write a Python program to find the length of the my_str'\n",
    "#Output:- 55\n",
    "\n",
    "my_str = 'Write a Python program to find the length of the my_str'\n",
    "count=0\n",
    "for i in my_str :\n",
    "    count+=1\n",
    "print(count)"
   ]
  },
  {
   "cell_type": "code",
   "execution_count": 19,
   "metadata": {
    "id": "bp6AcqTsdYxy"
   },
   "outputs": [
    {
     "name": "stdout",
     "output_type": "stream",
     "text": [
      "9\n"
     ]
    }
   ],
   "source": [
    "#Write a Python program to find the total number of times letter 'p' is appeared in the below string using loop:-\n",
    "    \n",
    "#Input:- 'peter piper picked a peck of pickled peppers.\\n'\n",
    "#Output:- 9\n",
    "\n",
    "my_str = 'peter piper picked a peck of pickled peppers.\\n'\n",
    "count=0\n",
    "for i in my_str :\n",
    "    if i=='p':\n",
    "        count+=1\n",
    "print(count)"
   ]
  },
  {
   "cell_type": "code",
   "execution_count": 20,
   "metadata": {
    "id": "xvxSBhTJdav1"
   },
   "outputs": [
    {
     "name": "stdout",
     "output_type": "stream",
     "text": [
      "0\n",
      "6\n",
      "8\n",
      "12\n",
      "21\n",
      "29\n",
      "37\n",
      "39\n",
      "40\n"
     ]
    }
   ],
   "source": [
    "#Write a Python Program, to print all the indexes of all occurences of letter 'p' appeared in the string using loop:-\n",
    "    \n",
    "#Input:- 'peter piper picked a peck of pickled peppers.'\n",
    "#Output:- \n",
    "# 0\n",
    "# 6\n",
    "# 8\n",
    "# 12\n",
    "# 21\n",
    "# 29\n",
    "# 37\n",
    "# 39\n",
    "# 40\n",
    "\n",
    "my_str = 'peter piper picked a peck of pickled peppers.\\n'\n",
    "count=0\n",
    "for i in range(len(my_str)) :\n",
    "    if my_str[i]=='p':\n",
    "        print(i)"
   ]
  },
  {
   "cell_type": "code",
   "execution_count": 32,
   "metadata": {
    "id": "79L_feMadbmw"
   },
   "outputs": [
    {
     "name": "stdout",
     "output_type": "stream",
     "text": [
      "['peter', 'piper', 'picked', 'a', 'peck', 'of', 'pickled', 'peppers']\n"
     ]
    }
   ],
   "source": [
    "#Write a python program to find below output using loop:-\n",
    "\n",
    "#Input:- 'peter piper picked a peck of pickled peppers.'\n",
    "#Output:- ['peter', 'piper', 'picked', 'a', 'peck', 'of', 'pickled', 'peppers']\n",
    "\n",
    "my_str = 'peter piper picked a peck of pickled peppers.'\n",
    "lst=[]\n",
    "word=''\n",
    "for i in my_str :\n",
    "    if i!=' ' and i!='.':\n",
    "        word+=i\n",
    "    else:\n",
    "        lst.append(word)\n",
    "        word=''\n",
    "print(lst)"
   ]
  },
  {
   "cell_type": "code",
   "execution_count": 33,
   "metadata": {
    "id": "vzs5AJ53deVS"
   },
   "outputs": [
    {
     "name": "stdout",
     "output_type": "stream",
     "text": [
      "peppers pickled of peck a picked piper peter \n"
     ]
    }
   ],
   "source": [
    "#Write a python program to find below output using loop:-\n",
    "\n",
    "#Input:- 'peter piper picked a peck of pickled peppers.'\n",
    "#Output:- 'peppers pickled of peck a picked piper peter'\n",
    "\n",
    "my_str = 'peter piper picked a peck of pickled peppers.'\n",
    "string=''\n",
    "word=''\n",
    "for i in my_str :\n",
    "    if i!=' ' and i!='.':\n",
    "        word+=i\n",
    "    else:\n",
    "        string=word+' '+string\n",
    "        word=''\n",
    "print(string)"
   ]
  },
  {
   "cell_type": "code",
   "execution_count": 34,
   "metadata": {
    "id": "i-HP7DrCdhwS"
   },
   "outputs": [
    {
     "name": "stdout",
     "output_type": "stream",
     "text": [
      ".sreppep delkcip fo kcep a dekcip repip retep\n"
     ]
    }
   ],
   "source": [
    "#Write a python program to find below output using loop:-\n",
    "\n",
    "#Input:- 'peter piper picked a peck of pickled peppers.'\n",
    "#Output:- '.sreppep delkcip fo kcep a dekcip repip retep'\n",
    "\n",
    "my_str = 'peter piper picked a peck of pickled peppers.'\n",
    "string=''\n",
    "for i in my_str :\n",
    "        string=i+string\n",
    "print(string)"
   ]
  },
  {
   "cell_type": "code",
   "execution_count": 39,
   "metadata": {
    "id": "3rt6p0ytdkq0"
   },
   "outputs": [
    {
     "name": "stdout",
     "output_type": "stream",
     "text": [
      "retep repip dekcip a kcep fo delkcip sreppep\n"
     ]
    }
   ],
   "source": [
    "#Write a python program to find below output using loop:-\n",
    "\n",
    "#Input:- 'peter piper picked a peck of pickled peppers.'\n",
    "#Output:- 'retep repip dekcip a kcep fo delkcip sreppep'\n",
    "\n",
    "my_str = 'peter piper picked a peck of pickled peppers.'\n",
    "string=''\n",
    "word=''\n",
    "for i in my_str :\n",
    "    if i!=' ' and i!='.':\n",
    "        word= i+word\n",
    "    else:\n",
    "        if i==' ':\n",
    "            word+= i\n",
    "        string+=word\n",
    "        word=''\n",
    "print(string)"
   ]
  },
  {
   "cell_type": "code",
   "execution_count": 41,
   "metadata": {
    "id": "HdlAWgT2dnKO"
   },
   "outputs": [
    {
     "name": "stdout",
     "output_type": "stream",
     "text": [
      "Peter Piper Picked A Peck Of Pickled Peppers\n"
     ]
    }
   ],
   "source": [
    "#Write a python program to find below output using loop:-\n",
    "\n",
    "#Input:- 'peter piper picked a peck of pickled peppers.'\n",
    "#Output:- 'Peter Piper Picked A Peck Of Pickled Peppers'\n",
    "\n",
    "my_str = 'peter piper picked a peck of pickled peppers.'\n",
    "string=''\n",
    "word=''\n",
    "for i in my_str :\n",
    "    if i!=' ' and i!='.':\n",
    "        word+=i\n",
    "    else:\n",
    "        if i==' ':\n",
    "            word+= i\n",
    "        string+=word.capitalize()\n",
    "        word=''\n",
    "print(string)"
   ]
  },
  {
   "cell_type": "code",
   "execution_count": 42,
   "metadata": {
    "id": "OthUuacodrNl"
   },
   "outputs": [
    {
     "name": "stdout",
     "output_type": "stream",
     "text": [
      "Peter peter piper picked a peck of pickled peppers\n"
     ]
    }
   ],
   "source": [
    "#Write a python program to find below output using loop:-\n",
    "\n",
    "#Input:- 'Peter Piper Picked A Peck Of Pickled Peppers.'\n",
    "#Output:- 'Peter piper picked a peck of pickled peppers'\n",
    "\n",
    "my_str = 'peter piper picked a peck of pickled peppers.'\n",
    "string=''\n",
    "word=''\n",
    "for i in my_str :\n",
    "    if i!=' ' and i!='.':\n",
    "        word+=i\n",
    "    else:\n",
    "        if i==' ':\n",
    "            word+= i\n",
    "        if string=='':\n",
    "            string+=word.capitalize()\n",
    "        string+=word\n",
    "        word=''\n",
    "print(string)"
   ]
  },
  {
   "cell_type": "code",
   "execution_count": 43,
   "metadata": {
    "colab": {
     "base_uri": "https://localhost:8080/",
     "height": 34
    },
    "id": "scmDJE-ldsI9",
    "outputId": "4b1d1979-9f4a-4bc6-c505-b88b1bbd4d5d"
   },
   "outputs": [
    {
     "name": "stdout",
     "output_type": "stream",
     "text": [
      "29\n"
     ]
    }
   ],
   "source": [
    "#Write a python program to implement index method using loop. If sub_str is found in my_str then it will print the index\n",
    "# of first occurrence of first character of matching string in my_str:-\n",
    "\n",
    "#Input:- my_str = 'Peter Piper Picked A Peck Of Pickled Peppers.', sub_str = 'Pickl'\n",
    "#Output:- 29\n",
    "\n",
    "my_str = 'Peter Piper Picked A Peck Of Pickled Peppers.'\n",
    "sub_str = 'Pickl'\n",
    "\n",
    "found = True\n",
    "for i in range(len(my_str)):\n",
    "    if(my_str[i]==sub_str[0]):\n",
    "        j=0;\n",
    "        k=i;\n",
    "        while j<len(sub_str) and k <len(my_str):\n",
    "            if(my_str[k]==sub_str[j]):\n",
    "                k+=1\n",
    "                j+=1\n",
    "            else:\n",
    "                break\n",
    "        \n",
    "        if(j==len(sub_str)):\n",
    "            print(i)"
   ]
  },
  {
   "cell_type": "code",
   "execution_count": 44,
   "metadata": {
    "id": "Kq_fwdb_dvYE"
   },
   "outputs": [
    {
     "name": "stdout",
     "output_type": "stream",
     "text": [
      "Peter Piper Picked A Pack Of Pickled Peppers.\n"
     ]
    }
   ],
   "source": [
    "#Write a python program to implement replace method using loop. If sub_str is found in my_str then it will replace the first \n",
    "#occurrence of sub_str with new_str else it will will print sub_str not found:-\n",
    "\n",
    "#Input:- my_str = 'Peter Piper Picked A Peck Of Pickled Peppers.', sub_str = 'Peck', new_str = 'Pack'\n",
    "#Output:- 'Peter Piper Picked A Pack Of Pickled Peppers.'\n",
    "\n",
    "\n",
    "index=-1\n",
    "my_str = 'Peter Piper Picked A Peck Of Pickled Peppers.'\n",
    "sub_str = 'Peck'\n",
    "new_str = 'Pack'\n",
    "found = True\n",
    "for i in range(len(my_str)):\n",
    "    if(my_str[i]==sub_str[0]):\n",
    "        j=0;\n",
    "        k=i;\n",
    "        while j<len(sub_str) and k <len(my_str):\n",
    "            if(my_str[k]==sub_str[j]):\n",
    "                k+=1\n",
    "                j+=1\n",
    "            else:\n",
    "                break\n",
    "        \n",
    "        if(j==len(sub_str)):\n",
    "            index=i\n",
    "if(index==-1):\n",
    "    print('sub_str not found')\n",
    "else:\n",
    "    print(my_str[:index:]+new_str+my_str[index+len(new_str)::])   "
   ]
  },
  {
   "cell_type": "code",
   "execution_count": 52,
   "metadata": {
    "id": "4Qes5D0cdyd1"
   },
   "outputs": [
    {
     "name": "stdout",
     "output_type": "stream",
     "text": [
      "*********************Peck********************\n"
     ]
    }
   ],
   "source": [
    "#Write a python program to find below output (implements rjust and ljust) using loop:-\n",
    "\n",
    "#Input:- 'Peter Piper Picked A Peck Of Pickled Peppers.', sub_str = 'Peck', \n",
    "#Output:- '*********************Peck********************'\n",
    "\n",
    "\n",
    "\n",
    "index=-1\n",
    "my_str = 'Peter Piper Picked A Peck Of Pickled Peppers.'\n",
    "sub_str = 'Peck'\n",
    "found = True\n",
    "for i in range(len(my_str)):\n",
    "    if(my_str[i]==sub_str[0]):\n",
    "        j=0;\n",
    "        k=i;\n",
    "        while j<len(sub_str) and k <len(my_str):\n",
    "            if(my_str[k]==sub_str[j]):\n",
    "                k+=1\n",
    "                j+=1\n",
    "            else:\n",
    "                break\n",
    "        \n",
    "        if(j==len(sub_str)):\n",
    "            index=i\n",
    "if(index==-1):\n",
    "    print('sub_str not found')\n",
    "else:\n",
    "    print('*'*index+sub_str+'*'*(len(my_str)-len(sub_str)-index))   \n"
   ]
  },
  {
   "cell_type": "code",
   "execution_count": 51,
   "metadata": {
    "id": "DsOrb07Od0lR"
   },
   "outputs": [
    {
     "name": "stdout",
     "output_type": "stream",
     "text": [
      "['This', 'is', 'Python class']\n"
     ]
    }
   ],
   "source": [
    "#Write a python program to find below output using loop:-\n",
    "\n",
    "#Input:- 'This is Python class', sep = ' is', \n",
    "#Output:- ['This', 'is', 'Python class']\n",
    "\n",
    "\n",
    "my_str = 'This is Python class'\n",
    "sub_str = ' is'\n",
    "index=-1\n",
    "\n",
    "found = True\n",
    "for i in range(len(my_str)):\n",
    "    if(my_str[i]==sub_str[0]):\n",
    "        j=0;\n",
    "        k=i;\n",
    "        while j<len(sub_str) and k <len(my_str):\n",
    "            if(my_str[k]==sub_str[j]):\n",
    "                k+=1\n",
    "                j+=1\n",
    "            else:\n",
    "                break\n",
    "        \n",
    "        if(j==len(sub_str)):\n",
    "            index=i\n",
    "            break\n",
    "\n",
    "print([my_str[:4:].strip(),sub_str.strip(),my_str[4+len(sub_str)::].strip()])"
   ]
  },
  {
   "cell_type": "code",
   "execution_count": null,
   "metadata": {
    "id": "jRnBVufmd2Ay"
   },
   "outputs": [],
   "source": [
    "\n",
    "\n"
   ]
  }
 ],
 "metadata": {
  "colab": {
   "name": "Conditional_and_loop_assignment.ipynb",
   "provenance": []
  },
  "kernelspec": {
   "display_name": "Python 3",
   "language": "python",
   "name": "python3"
  },
  "language_info": {
   "codemirror_mode": {
    "name": "ipython",
    "version": 3
   },
   "file_extension": ".py",
   "mimetype": "text/x-python",
   "name": "python",
   "nbconvert_exporter": "python",
   "pygments_lexer": "ipython3",
   "version": "3.8.8"
  }
 },
 "nbformat": 4,
 "nbformat_minor": 1
}
